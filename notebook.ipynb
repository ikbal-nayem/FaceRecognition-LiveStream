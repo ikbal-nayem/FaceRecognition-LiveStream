{
  "cells": [
    {
      "cell_type": "code",
      "metadata": {
        "tags": [],
        "cell_id": "00000-e0be1231-7fe5-4baf-b87f-7f5f99c0c3b2",
        "deepnote_to_be_reexecuted": false,
        "source_hash": "941cc886",
        "execution_millis": 2221,
        "output_cleared": false,
        "execution_start": 1616224751169,
        "deepnote_cell_type": "code"
      },
      "source": "from FaceRecognition import apply",
      "execution_count": null,
      "outputs": [
        {
          "name": "stderr",
          "text": "/shared-libs/python3.7/py/lib/python3.7/site-packages/scipy/__init__.py:137: UserWarning: NumPy 1.16.5 or above is required for this version of SciPy (detected version 1.16.4)\n  UserWarning)\n",
          "output_type": "stream"
        }
      ]
    },
    {
      "cell_type": "code",
      "metadata": {
        "tags": [],
        "cell_id": "00001-e0166b2c-d851-4e98-a5b8-4b5af1dc811f",
        "deepnote_to_be_reexecuted": false,
        "source_hash": null,
        "execution_millis": 6005,
        "output_cleared": true,
        "execution_start": 1616224755597,
        "deepnote_cell_type": "code"
      },
      "source": "apply({\"url\": \"https://www.bubt.edu.bd/assets/frontend/media/1499486834BUBT-2nd-329-final.jpg\"})",
      "execution_count": null,
      "outputs": []
    },
    {
      "cell_type": "code",
      "metadata": {
        "tags": [],
        "cell_id": "00005-8b15a310-4c33-42da-9254-6503d5efb170",
        "deepnote_to_be_reexecuted": false,
        "source_hash": "becacfbd",
        "execution_millis": 65,
        "execution_start": 1616423297443,
        "deepnote_cell_type": "code"
      },
      "source": "import requests",
      "execution_count": 1,
      "outputs": []
    },
    {
      "cell_type": "code",
      "metadata": {
        "tags": [],
        "cell_id": "00003-a2a9c7b5-c758-4c57-8d5c-61f503484bd6",
        "deepnote_to_be_reexecuted": false,
        "source_hash": "5834466c",
        "execution_millis": 12650,
        "execution_start": 1616423339055,
        "deepnote_cell_type": "code"
      },
      "source": "resp = requests.post(\n    'http://127.0.0.1:8000',\n    json={\"url\": \"https://www.bubt.edu.bd/assets/frontend/media/1499486834BUBT-2nd-329-final.jpg\"}\n)",
      "execution_count": 3,
      "outputs": []
    },
    {
      "cell_type": "code",
      "metadata": {
        "tags": [],
        "cell_id": "00006-93ae4222-4f99-4c98-b107-d698ca0eb7e8",
        "deepnote_to_be_reexecuted": false,
        "source_hash": "80811e9c",
        "execution_millis": 6,
        "execution_start": 1616423357648,
        "deepnote_cell_type": "code"
      },
      "source": "resp.json()",
      "execution_count": 4,
      "outputs": [
        {
          "output_type": "execute_result",
          "execution_count": 4,
          "data": {
            "text/plain": "{'faces': [{'bounding_box': {'bottom': 382.1360179781914,\n    'left': 807.9053571224213,\n    'right': 874.27867603302,\n    'top': 292.4373115301132},\n   'top_prediction': {'confidence': 0.6852931481532912, 'label': 'Gomes'}},\n  {'bounding_box': {'bottom': 395.84062764793634,\n    'left': 178.53951692581177,\n    'right': 245.86073368787766,\n    'top': 309.7447459846735},\n   'top_prediction': {'confidence': 0.672710195509266, 'label': 'Rumu'}},\n  {'bounding_box': {'bottom': 134.0168571844697,\n    'left': 567.501137316227,\n    'right': 627.8149953186512,\n    'top': 40.086610943078995},\n   'top_prediction': {'confidence': 0.7782795630351578, 'label': 'Rumu'}},\n  {'bounding_box': {'bottom': 350.2689411751926,\n    'left': 1085.5198358893394,\n    'right': 1146.141070753336,\n    'top': 264.47221813350916},\n   'top_prediction': {'confidence': 0.6369063810169822, 'label': 'Rumu'}},\n  {'bounding_box': {'bottom': 250.0411864221096,\n    'left': 792.2379272133112,\n    'right': 842.8824825398624,\n    'top': 180.6193970143795},\n   'top_prediction': {'confidence': 0.6398732653281074, 'label': 'Gomes'}},\n  {'bounding_box': {'bottom': 299.43874034285545,\n    'left': 325.5876349359751,\n    'right': 375.928789973259,\n    'top': 231.3808892071247},\n   'top_prediction': {'confidence': 0.3469351670944934, 'label': 'Azharul'}},\n  {'bounding_box': {'bottom': 275.5337755084038,\n    'left': 90.46674817800522,\n    'right': 143.18340334296227,\n    'top': 212.42075553536415},\n   'top_prediction': {'confidence': 0.19340313636133355, 'label': 'shipon'}},\n  {'bounding_box': {'bottom': 293.31656545214355,\n    'left': 1021.9466696083546,\n    'right': 1072.190564084798,\n    'top': 229.49544852226973},\n   'top_prediction': {'confidence': 0.7400977518926346, 'label': 'Rumu'}},\n  {'bounding_box': {'bottom': 233.94143237173557,\n    'left': 260.1182425096631,\n    'right': 298.78973753005266,\n    'top': 187.97351852804422},\n   'top_prediction': {'confidence': 0.2592206625935645, 'label': 'Azharul'}},\n  {'bounding_box': {'bottom': 234.8916290923953,\n    'left': 1109.2037582844496,\n    'right': 1143.6647586934268,\n    'top': 187.87762713432312},\n   'top_prediction': {'confidence': 0.7458116447818339, 'label': 'Rumu'}},\n  {'bounding_box': {'bottom': 208.35552728176117,\n    'left': 755.1918507367373,\n    'right': 788.8956673964858,\n    'top': 162.7018460035324},\n   'top_prediction': {'confidence': 0.5636874676651487, 'label': 'kawser'}},\n  {'bounding_box': {'bottom': 246.10097418539226,\n    'left': 400.829430103302,\n    'right': 436.5116066932678,\n    'top': 203.67048366367817},\n   'top_prediction': {'confidence': 0.5901595296649227, 'label': 'Ikbal'}},\n  {'bounding_box': {'bottom': 240.17709969729185,\n    'left': 933.0984344296157,\n    'right': 967.2616372406483,\n    'top': 195.90620476007462},\n   'top_prediction': {'confidence': 0.6869782061525614, 'label': 'Rumu'}},\n  {'bounding_box': {'bottom': 199.82887116074562,\n    'left': 1044.6664007157087,\n    'right': 1078.6093008816242,\n    'top': 156.20107612013817},\n   'top_prediction': {'confidence': 0.6987043573407538, 'label': 'kawser'}},\n  {'bounding_box': {'bottom': 195.95138113200665,\n    'left': 920.5187133550644,\n    'right': 953.1669999659061,\n    'top': 154.87391028553247},\n   'top_prediction': {'confidence': 0.37066260704706, 'label': 'Mofa'}},\n  {'bounding_box': {'bottom': 215.81510090827942,\n    'left': 347.8168475329876,\n    'right': 376.93866300582886,\n    'top': 179.43154632672668},\n   'top_prediction': {'confidence': 0.2562055035465313, 'label': 'Ikbal'}},\n  {'bounding_box': {'bottom': 173.04580238461494,\n    'left': 874.6545443832874,\n    'right': 902.5256190598011,\n    'top': 138.96739330887794},\n   'top_prediction': {'confidence': 0.38001390387915185, 'label': 'kawser'}},\n  {'bounding_box': {'bottom': 196.61719756759703,\n    'left': 869.1116094365716,\n    'right': 895.6115418672562,\n    'top': 163.54114060103893},\n   'top_prediction': {'confidence': 0.36721220807112614, 'label': 'kawser'}},\n  {'bounding_box': {'bottom': 188.74101977795362,\n    'left': 260.19254268705845,\n    'right': 286.5783126950264,\n    'top': 156.97561509907246},\n   'top_prediction': {'confidence': 0.21599239726433048, 'label': 'Ayesha'}},\n  {'bounding_box': {'bottom': 190.0645501613617,\n    'left': 1005.1810121536255,\n    'right': 1029.8989396095276,\n    'top': 159.47898483276367},\n   'top_prediction': {'confidence': 0.29877322222936925, 'label': 'kawser'}},\n  {'bounding_box': {'bottom': 178.90009859204292,\n    'left': 431.4059120565653,\n    'right': 455.22437009215355,\n    'top': 151.3853264041245},\n   'top_prediction': {'confidence': 0.4703658748325079, 'label': 'Srabon'}},\n  {'bounding_box': {'bottom': 180.8116067815572,\n    'left': 321.6086095571518,\n    'right': 344.9021925330162,\n    'top': 152.7735101878643},\n   'top_prediction': {'confidence': 0.7294523662468277, 'label': 'Ikbal'}},\n  {'bounding_box': {'bottom': 174.56737266294658,\n    'left': 976.4406626299024,\n    'right': 999.4850482940674,\n    'top': 147.05198999866843},\n   'top_prediction': {'confidence': 0.32556507924236366, 'label': 'Nisha'}},\n  {'bounding_box': {'bottom': 172.37720685452223,\n    'left': 1141.827135540545,\n    'right': 1163.701488621533,\n    'top': 145.48117344081402},\n   'top_prediction': {'confidence': 0.17327187853246057, 'label': 'Gomes'}}]}"
          },
          "metadata": {}
        }
      ]
    },
    {
      "cell_type": "code",
      "metadata": {
        "tags": [],
        "cell_id": "00005-893191b4-d7a5-4dcb-8973-6452f4e86863",
        "deepnote_to_be_reexecuted": false,
        "source_hash": "6355330c",
        "execution_millis": 22677,
        "execution_start": 1616423411519,
        "deepnote_cell_type": "code"
      },
      "source": "files = {'image': open('shetu.jpg', 'rb')}\nresp = requests.post('http://127.0.0.1:8000', files=files)",
      "execution_count": 8,
      "outputs": []
    },
    {
      "cell_type": "code",
      "metadata": {
        "tags": [],
        "cell_id": "00007-159ab90c-d5a3-4c1a-a2f7-797696c2549c",
        "deepnote_to_be_reexecuted": false,
        "source_hash": "80811e9c",
        "execution_millis": 13,
        "execution_start": 1616321124758,
        "deepnote_cell_type": "code"
      },
      "source": "resp.json()",
      "execution_count": null,
      "outputs": [
        {
          "output_type": "execute_result",
          "execution_count": 29,
          "data": {
            "text/plain": "{'faces': [{'bounding_box': {'bottom': 1352.9930881932378,\n    'left': 518.4953514039516,\n    'right': 1258.274700909853,\n    'top': 342.7745699286461},\n   'top_prediction': {'confidence': 0.369676054879632, 'label': 'Azharul'}}]}"
          },
          "metadata": {}
        }
      ]
    },
    {
      "cell_type": "code",
      "metadata": {
        "tags": [],
        "cell_id": "00007-5c63d221-68c4-4072-8206-cd52dfd70ad2",
        "deepnote_cell_type": "code"
      },
      "source": "",
      "execution_count": null,
      "outputs": []
    },
    {
      "cell_type": "markdown",
      "source": "<a style='text-decoration:none;line-height:16px;display:flex;color:#5B5B62;padding:10px;justify-content:end;' href='https://deepnote.com?utm_source=created-in-deepnote-cell&projectId=b8e330ab-973c-4626-9e95-5a410562ef77' target=\"_blank\">\n<img style='display:inline;max-height:16px;margin:0px;margin-right:7.5px;' src='data:image/svg+xml;base64,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' > </img>\nCreated in <span style='font-weight:600;margin-left:4px;'>Deepnote</span></a>",
      "metadata": {
        "tags": [],
        "created_in_deepnote_cell": true,
        "deepnote_cell_type": "markdown"
      }
    }
  ],
  "nbformat": 4,
  "nbformat_minor": 2,
  "metadata": {
    "orig_nbformat": 2,
    "deepnote_notebook_id": "319b2282-1c8c-4d07-9303-16c42bf35f25",
    "deepnote": {},
    "deepnote_execution_queue": []
  }
}